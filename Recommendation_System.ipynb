{
 "cells": [
  {
   "cell_type": "code",
   "execution_count": 1,
   "metadata": {},
   "outputs": [],
   "source": [
    "import nltk\n",
    "import pandas as pd\n",
    "from sklearn.model_selection import train_test_split\n",
    "from sklearn.model_selection import GridSearchCV\n",
    "from sklearn.metrics import accuracy_score\n",
    "from nltk.corpus import stopwords\n",
    "from nltk.stem.porter import PorterStemmer\n",
    "from nltk.stem import WordNetLemmatizer\n",
    "from sklearn.naive_bayes import MultinomialNB\n",
    "from sklearn.feature_extraction.text import CountVectorizer, TfidfVectorizer\n",
    "from sklearn.pipeline import Pipeline\n",
    "from sklearn.ensemble import RandomForestClassifier\n",
    "from sklearn.svm import SVC\n",
    "from sklearn.metrics import classification_report\n",
    "from sklearn.metrics import confusion_matrix\n",
    "import matplotlib.pyplot as plt\n",
    "from imblearn.over_sampling import RandomOverSampler\n",
    "from collections import Counter\n",
    "import seaborn as sns"
   ]
  },
  {
   "cell_type": "code",
   "execution_count": 2,
   "metadata": {},
   "outputs": [],
   "source": [
    "import pandas as pd\n",
    "pd.options.mode.chained_assignment = None  # default='warn'"
   ]
  },
  {
   "cell_type": "markdown",
   "metadata": {},
   "source": [
    "### Loading the Apriori Output"
   ]
  },
  {
   "cell_type": "code",
   "execution_count": 3,
   "metadata": {},
   "outputs": [
    {
     "data": {
      "text/plain": [
       "(222, 3)"
      ]
     },
     "execution_count": 3,
     "metadata": {},
     "output_type": "execute_result"
    }
   ],
   "source": [
    "df = pd.read_csv('apriori_output.csv')\n",
    "df.shape"
   ]
  },
  {
   "cell_type": "code",
   "execution_count": 4,
   "metadata": {},
   "outputs": [
    {
     "data": {
      "text/html": [
       "<div>\n",
       "<style scoped>\n",
       "    .dataframe tbody tr th:only-of-type {\n",
       "        vertical-align: middle;\n",
       "    }\n",
       "\n",
       "    .dataframe tbody tr th {\n",
       "        vertical-align: top;\n",
       "    }\n",
       "\n",
       "    .dataframe thead th {\n",
       "        text-align: right;\n",
       "    }\n",
       "</style>\n",
       "<table border=\"1\" class=\"dataframe\">\n",
       "  <thead>\n",
       "    <tr style=\"text-align: right;\">\n",
       "      <th></th>\n",
       "      <th>first</th>\n",
       "      <th>second</th>\n",
       "      <th>label</th>\n",
       "    </tr>\n",
       "  </thead>\n",
       "  <tbody>\n",
       "    <tr>\n",
       "      <th>0</th>\n",
       "      <td>['Bunched Cilantro']</td>\n",
       "      <td>['Organic Cilantro']</td>\n",
       "      <td>0</td>\n",
       "    </tr>\n",
       "    <tr>\n",
       "      <th>1</th>\n",
       "      <td>['Organic Cilantro']</td>\n",
       "      <td>['Bunched Cilantro']</td>\n",
       "      <td>0</td>\n",
       "    </tr>\n",
       "    <tr>\n",
       "      <th>2</th>\n",
       "      <td>['Extra Virgin Olive Oil']</td>\n",
       "      <td>['Organic Cilantro']</td>\n",
       "      <td>0</td>\n",
       "    </tr>\n",
       "    <tr>\n",
       "      <th>3</th>\n",
       "      <td>['Organic Cilantro']</td>\n",
       "      <td>['Extra Virgin Olive Oil']</td>\n",
       "      <td>0</td>\n",
       "    </tr>\n",
       "    <tr>\n",
       "      <th>4</th>\n",
       "      <td>['Extra Virgin Olive Oil']</td>\n",
       "      <td>['Organic Italian Parsley Bunch']</td>\n",
       "      <td>0</td>\n",
       "    </tr>\n",
       "  </tbody>\n",
       "</table>\n",
       "</div>"
      ],
      "text/plain": [
       "                        first                             second  label\n",
       "0        ['Bunched Cilantro']               ['Organic Cilantro']      0\n",
       "1        ['Organic Cilantro']               ['Bunched Cilantro']      0\n",
       "2  ['Extra Virgin Olive Oil']               ['Organic Cilantro']      0\n",
       "3        ['Organic Cilantro']         ['Extra Virgin Olive Oil']      0\n",
       "4  ['Extra Virgin Olive Oil']  ['Organic Italian Parsley Bunch']      0"
      ]
     },
     "execution_count": 4,
     "metadata": {},
     "output_type": "execute_result"
    }
   ],
   "source": [
    "df.head()"
   ]
  },
  {
   "cell_type": "code",
   "execution_count": 5,
   "metadata": {},
   "outputs": [
    {
     "data": {
      "text/plain": [
       "array([0, 1, 2], dtype=int64)"
      ]
     },
     "execution_count": 5,
     "metadata": {},
     "output_type": "execute_result"
    }
   ],
   "source": [
    "df.label.unique()"
   ]
  },
  {
   "cell_type": "markdown",
   "metadata": {},
   "source": [
    "## Plot of Label Distribution"
   ]
  },
  {
   "cell_type": "code",
   "execution_count": 6,
   "metadata": {},
   "outputs": [
    {
     "data": {
      "text/plain": [
       "Text(0, 0.5, 'Count')"
      ]
     },
     "execution_count": 6,
     "metadata": {},
     "output_type": "execute_result"
    },
    {
     "data": {
      "image/png": "[encoded data removed]",
      "text/plain": [
       "<Figure size 432x288 with 1 Axes>"
      ]
     },
     "metadata": {
      "needs_background": "light"
     },
     "output_type": "display_data"
    }
   ],
   "source": [
    "count_labels = pd.value_counts(df['label'])\n",
    "count_labels.plot(kind='bar', rot=0)\n",
    "plt.title('Label Distribution')\n",
    "plt.xlabel('Class')\n",
    "plt.ylabel('Count')"
   ]
  },
  {
   "cell_type": "markdown",
   "metadata": {},
   "source": [
    "#### So there is a class imbalance present in the dataset"
   ]
  },
  {
   "cell_type": "markdown",
   "metadata": {},
   "source": [
    "## Cleaning the dataset"
   ]
  },
  {
   "cell_type": "code",
   "execution_count": 7,
   "metadata": {},
   "outputs": [
    {
     "name": "stderr",
     "output_type": "stream",
     "text": [
      "<ipython-input-7-c9a27a7e8e0c>:1: FutureWarning: The default value of regex will change from True to False in a future version.\n",
      "  df[\"first\"]= df[\"first\"].str.replace('\\']','')\n",
      "<ipython-input-7-c9a27a7e8e0c>:2: FutureWarning: The default value of regex will change from True to False in a future version.\n",
      "  df[\"first\"]= df[\"first\"].str.replace('\\[\\'','')\n"
     ]
    }
   ],
   "source": [
    "df[\"first\"]= df[\"first\"].str.replace('\\']','')\n",
    "df[\"first\"]= df[\"first\"].str.replace('\\[\\'','')\n",
    "df[\"first\"]= df[\"first\"].str.replace(',','')\n",
    "df[\"first\"]= df[\"first\"].str.replace('&','')\n",
    "df[\"first\"]= df[\"first\"].str.replace('\\'','')"
   ]
  },
  {
   "cell_type": "code",
   "execution_count": 8,
   "metadata": {},
   "outputs": [
    {
     "name": "stderr",
     "output_type": "stream",
     "text": [
      "<ipython-input-8-cd583d526238>:1: FutureWarning: The default value of regex will change from True to False in a future version.\n",
      "  df[\"second\"]= df[\"second\"].str.replace('\\']','')\n",
      "<ipython-input-8-cd583d526238>:2: FutureWarning: The default value of regex will change from True to False in a future version.\n",
      "  df[\"second\"]= df[\"second\"].str.replace('\\[\\'','')\n"
     ]
    }
   ],
   "source": [
    "df[\"second\"]= df[\"second\"].str.replace('\\']','')\n",
    "df[\"second\"]= df[\"second\"].str.replace('\\[\\'','')\n",
    "df[\"second\"]= df[\"second\"].str.replace(',','')\n",
    "df[\"second\"]= df[\"second\"].str.replace('&','')\n",
    "df[\"second\"]= df[\"second\"].str.replace('\\'','')"
   ]
  },
  {
   "cell_type": "code",
   "execution_count": 9,
   "metadata": {},
   "outputs": [],
   "source": [
    "# Train Model\n",
    "train_model = df[['first','label']]"
   ]
  },
  {
   "cell_type": "code",
   "execution_count": 10,
   "metadata": {},
   "outputs": [],
   "source": [
    "predict = df[['label','second']]"
   ]
  },
  {
   "cell_type": "markdown",
   "metadata": {},
   "source": [
    "## Prepare dataframes for top 5 products in each label"
   ]
  },
  {
   "cell_type": "markdown",
   "metadata": {},
   "source": [
    "### Top 5 List of Products to be recommended for label 0"
   ]
  },
  {
   "cell_type": "code",
   "execution_count": 11,
   "metadata": {
    "scrolled": true
   },
   "outputs": [
    {
     "data": {
      "image/png": "[encoded data removed]",
      "text/plain": [
       "<Figure size 432x288 with 1 Axes>"
      ]
     },
     "metadata": {
      "needs_background": "light"
     },
     "output_type": "display_data"
    }
   ],
   "source": [
    "label_0 = predict[predict['label'] == 0]\n",
    "label_0.drop(columns='label', inplace=True)\n",
    "\n",
    "vals = label_0.value_counts(sort=True, ascending=False)\n",
    "df_val_counts = pd.DataFrame(vals)\n",
    "label_0 = df_val_counts.reset_index()\n",
    "label_0.columns = ['products', 'counts'] # change column names\n",
    "# label_0.index = label_0['counts']\n",
    "\n",
    "ax = sns.barplot(y = label_0.products, x = label_0.counts)\n",
    "ax.set_ylabel(\"Products\")\n",
    "ax.set_xlabel(\"Count\")\n",
    "ax.set_title(\"Products for Label 0\")\n",
    "plt.show()"
   ]
  },
  {
   "cell_type": "markdown",
   "metadata": {},
   "source": [
    "### Top 5 List of Products to be recommended for label 1"
   ]
  },
  {
   "cell_type": "code",
   "execution_count": 12,
   "metadata": {},
   "outputs": [
    {
     "data": {
      "image/png": "[encoded data removed]",
      "text/plain": [
       "<Figure size 432x288 with 1 Axes>"
      ]
     },
     "metadata": {
      "needs_background": "light"
     },
     "output_type": "display_data"
    }
   ],
   "source": [
    "label_1 = predict[predict['label'] == 1]\n",
    "label_1.drop(columns='label', inplace=True)\n",
    "\n",
    "vals = label_1.value_counts(sort=True, ascending=False)\n",
    "df_val_counts = pd.DataFrame(vals)\n",
    "label_1 = df_val_counts.reset_index()\n",
    "label_1.columns = ['products', 'counts'] # change column names\n",
    "# label_1 = label_1.head()\n",
    "# label_1.drop(columns=['counts'])\n",
    "\n",
    "# fig, ax = plt.subplots(figsize = (10,5))\n",
    "ax = sns.barplot(y = label_1.products[:5], x = label_1.counts[:5])\n",
    "ax.set_ylabel(\"Products\")\n",
    "ax.set_xlabel(\"Count\")\n",
    "ax.set_title(\"Products for Label 1\")\n",
    "plt.show()"
   ]
  },
  {
   "cell_type": "markdown",
   "metadata": {},
   "source": [
    "### Top 5 List of Products to be recommended for label 2"
   ]
  },
  {
   "cell_type": "code",
   "execution_count": 13,
   "metadata": {
    "scrolled": true
   },
   "outputs": [
    {
     "data": {
      "image/png": "[encoded data removed]",
      "text/plain": [
       "<Figure size 432x288 with 1 Axes>"
      ]
     },
     "metadata": {
      "needs_background": "light"
     },
     "output_type": "display_data"
    }
   ],
   "source": [
    "label_2 = predict[predict['label'] == 2]\n",
    "label_2.drop(columns='label', inplace=True)\n",
    "\n",
    "vals = label_2.value_counts(sort=True, ascending=False)\n",
    "df_val_counts = pd.DataFrame(vals)\n",
    "label_2 = df_val_counts.reset_index()\n",
    "label_2.columns = ['products', 'counts'] # change column names\n",
    "# label_2 = label_2.head()\n",
    "# label_2\n",
    "\n",
    "\n",
    "ax = sns.barplot(y = label_2.products[:5], x = label_2.counts[:5])\n",
    "ax.set_ylabel(\"Products\")\n",
    "ax.set_xlabel(\"Count\")\n",
    "ax.set_title(\"Products for Label 2\")\n",
    "plt.show()"
   ]
  },
  {
   "cell_type": "code",
   "execution_count": 14,
   "metadata": {},
   "outputs": [],
   "source": [
    "labels = train_model['label']\n",
    "dataset = train_model['first']"
   ]
  },
  {
   "cell_type": "markdown",
   "metadata": {},
   "source": [
    "## Fix Class Imbalance"
   ]
  },
  {
   "cell_type": "markdown",
   "metadata": {},
   "source": [
    "### To fix class imbance, it is better to go with over sampling because our dataset doesn't contains a large number of records. With oversampling we will not miss any useful data as well."
   ]
  },
  {
   "cell_type": "code",
   "execution_count": 15,
   "metadata": {},
   "outputs": [],
   "source": [
    "ros = RandomOverSampler(random_state=42)"
   ]
  },
  {
   "cell_type": "code",
   "execution_count": 16,
   "metadata": {},
   "outputs": [
    {
     "name": "stdout",
     "output_type": "stream",
     "text": [
      "original dataset shape: Counter({1: 166, 2: 48, 0: 8})\n",
      "Resample dataset shape Counter({0: 166, 1: 166, 2: 166})\n"
     ]
    }
   ],
   "source": [
    "X_ros, y_ros = ros.fit_resample(dataset.values.reshape(-1,1), labels)\n",
    "\n",
    "print('original dataset shape:', Counter(labels))\n",
    "print('Resample dataset shape', Counter(y_ros))"
   ]
  },
  {
   "cell_type": "code",
   "execution_count": 17,
   "metadata": {},
   "outputs": [
    {
     "data": {
      "text/plain": [
       "Text(0, 0.5, 'Count')"
      ]
     },
     "execution_count": 17,
     "metadata": {},
     "output_type": "execute_result"
    },
    {
     "data": {
      "image/png": "[encoded data removed]",
      "text/plain": [
       "<Figure size 432x288 with 1 Axes>"
      ]
     },
     "metadata": {
      "needs_background": "light"
     },
     "output_type": "display_data"
    }
   ],
   "source": [
    "count_labels = pd.value_counts(y_ros)\n",
    "count_labels.plot(kind='bar', rot=0)\n",
    "plt.title('Label Distribution')\n",
    "plt.xlabel('Class')\n",
    "plt.ylabel('Count')"
   ]
  },
  {
   "cell_type": "code",
   "execution_count": 18,
   "metadata": {},
   "outputs": [],
   "source": [
    "# Split dataset\n",
    "X_train, X_test, y_train, y_test = train_test_split(X_ros, y_ros, test_size=0.2, random_state=42)"
   ]
  },
  {
   "cell_type": "code",
   "execution_count": 19,
   "metadata": {},
   "outputs": [],
   "source": [
    "X_train = X_train.flatten()\n",
    "X_test = X_test.flatten()"
   ]
  },
  {
   "cell_type": "markdown",
   "metadata": {},
   "source": [
    "## NLP"
   ]
  },
  {
   "cell_type": "markdown",
   "metadata": {},
   "source": [
    "### Bag of Words"
   ]
  },
  {
   "cell_type": "code",
   "execution_count": 20,
   "metadata": {},
   "outputs": [],
   "source": [
    "bow_vect = CountVectorizer(ngram_range=(1,1))"
   ]
  },
  {
   "cell_type": "code",
   "execution_count": 21,
   "metadata": {},
   "outputs": [],
   "source": [
    "X_train_bow = bow_vect.fit_transform(X_train)"
   ]
  },
  {
   "cell_type": "code",
   "execution_count": 22,
   "metadata": {},
   "outputs": [],
   "source": [
    "X_train_bow_arr = X_train_bow.toarray()"
   ]
  },
  {
   "cell_type": "code",
   "execution_count": 23,
   "metadata": {},
   "outputs": [
    {
     "name": "stdout",
     "output_type": "stream",
     "text": [
      "     and  apple  apples  apricot  baby  banana  bean  beans  berry  black  \\\n",
      "0      1      0       0        0     2       0     0      0      0      0   \n",
      "1      0      0       0        0     0       0     0      0      0      0   \n",
      "2      0      0       0        0     0       0     0      0      0      0   \n",
      "3      0      0       0        0     0       0     0      0      0      0   \n",
      "4      0      0       0        0     0       0     0      0      0      0   \n",
      "..   ...    ...     ...      ...   ...     ...   ...    ...    ...    ...   \n",
      "393    0      0       0        0     0       0     0      0      0      0   \n",
      "394    0      0       0        0     0       0     0      0      0      0   \n",
      "395    0      0       0        0     0       0     0      0      0      0   \n",
      "396    0      0       0        0     0       0     0      0      0      0   \n",
      "397    0      0       0        0     0       0     0      0      0      0   \n",
      "\n",
      "     ...  strawberry  string  superfoods  sweeet  sweet  virgin  water  whole  \\\n",
      "0    ...           0       0           0       0      0       0      0      0   \n",
      "1    ...           0       0           0       0      0       0      0      0   \n",
      "2    ...           0       0           0       0      0       1      0      0   \n",
      "3    ...           0       0           0       0      0       0      2      0   \n",
      "4    ...           0       0           0       0      0       0      1      0   \n",
      "..   ...         ...     ...         ...     ...    ...     ...    ...    ...   \n",
      "393  ...           0       0           0       0      0       0      0      1   \n",
      "394  ...           0       0           0       0      0       0      0      0   \n",
      "395  ...           0       0           0       0      0       0      0      0   \n",
      "396  ...           0       0           0       0      0       0      1      0   \n",
      "397  ...           0       0           0       0      0       0      0      0   \n",
      "\n",
      "     xa0  yogurt  \n",
      "0      0       0  \n",
      "1      0       0  \n",
      "2      0       0  \n",
      "3      0       0  \n",
      "4      0       0  \n",
      "..   ...     ...  \n",
      "393    0       0  \n",
      "394    0       0  \n",
      "395    0       0  \n",
      "396    0       0  \n",
      "397    0       0  \n",
      "\n",
      "[398 rows x 76 columns]\n"
     ]
    }
   ],
   "source": [
    "#BOW Representation\n",
    "bow_dataframe = pd.DataFrame(X_train_bow_arr, columns=bow_vect.get_feature_names())\n",
    "print(bow_dataframe)"
   ]
  },
  {
   "cell_type": "markdown",
   "metadata": {},
   "source": [
    "### TF-IDF"
   ]
  },
  {
   "cell_type": "code",
   "execution_count": 24,
   "metadata": {},
   "outputs": [],
   "source": [
    "tfidf_vect = TfidfVectorizer(ngram_range=(1,1))"
   ]
  },
  {
   "cell_type": "code",
   "execution_count": 25,
   "metadata": {},
   "outputs": [],
   "source": [
    "X_train_tfidf = tfidf_vect.fit_transform(X_train)"
   ]
  },
  {
   "cell_type": "code",
   "execution_count": 26,
   "metadata": {},
   "outputs": [],
   "source": [
    "X_train_tfidf_arr = X_train_tfidf.toarray()"
   ]
  },
  {
   "cell_type": "code",
   "execution_count": 27,
   "metadata": {},
   "outputs": [
    {
     "name": "stdout",
     "output_type": "stream",
     "text": [
      "          and  apple  apples  apricot     baby  banana  bean  beans  berry  \\\n",
      "0    0.348819    0.0     0.0      0.0  0.44864     0.0   0.0    0.0    0.0   \n",
      "1    0.000000    0.0     0.0      0.0  0.00000     0.0   0.0    0.0    0.0   \n",
      "2    0.000000    0.0     0.0      0.0  0.00000     0.0   0.0    0.0    0.0   \n",
      "3    0.000000    0.0     0.0      0.0  0.00000     0.0   0.0    0.0    0.0   \n",
      "4    0.000000    0.0     0.0      0.0  0.00000     0.0   0.0    0.0    0.0   \n",
      "..        ...    ...     ...      ...      ...     ...   ...    ...    ...   \n",
      "393  0.000000    0.0     0.0      0.0  0.00000     0.0   0.0    0.0    0.0   \n",
      "394  0.000000    0.0     0.0      0.0  0.00000     0.0   0.0    0.0    0.0   \n",
      "395  0.000000    0.0     0.0      0.0  0.00000     0.0   0.0    0.0    0.0   \n",
      "396  0.000000    0.0     0.0      0.0  0.00000     0.0   0.0    0.0    0.0   \n",
      "397  0.000000    0.0     0.0      0.0  0.00000     0.0   0.0    0.0    0.0   \n",
      "\n",
      "     black  ...  strawberry  string  superfoods  sweeet  sweet  virgin  \\\n",
      "0      0.0  ...         0.0     0.0         0.0     0.0    0.0     0.0   \n",
      "1      0.0  ...         0.0     0.0         0.0     0.0    0.0     0.0   \n",
      "2      0.0  ...         0.0     0.0         0.0     0.0    0.0     0.5   \n",
      "3      0.0  ...         0.0     0.0         0.0     0.0    0.0     0.0   \n",
      "4      0.0  ...         0.0     0.0         0.0     0.0    0.0     0.0   \n",
      "..     ...  ...         ...     ...         ...     ...    ...     ...   \n",
      "393    0.0  ...         0.0     0.0         0.0     0.0    0.0     0.0   \n",
      "394    0.0  ...         0.0     0.0         0.0     0.0    0.0     0.0   \n",
      "395    0.0  ...         0.0     0.0         0.0     0.0    0.0     0.0   \n",
      "396    0.0  ...         0.0     0.0         0.0     0.0    0.0     0.0   \n",
      "397    0.0  ...         0.0     0.0         0.0     0.0    0.0     0.0   \n",
      "\n",
      "        water     whole  xa0  yogurt  \n",
      "0    0.000000  0.000000  0.0     0.0  \n",
      "1    0.000000  0.000000  0.0     0.0  \n",
      "2    0.000000  0.000000  0.0     0.0  \n",
      "3    0.573425  0.000000  0.0     0.0  \n",
      "4    0.335247  0.000000  0.0     0.0  \n",
      "..        ...       ...  ...     ...  \n",
      "393  0.000000  0.654305  0.0     0.0  \n",
      "394  0.000000  0.000000  0.0     0.0  \n",
      "395  0.000000  0.000000  0.0     0.0  \n",
      "396  0.475771  0.000000  0.0     0.0  \n",
      "397  0.000000  0.000000  0.0     0.0  \n",
      "\n",
      "[398 rows x 76 columns]\n"
     ]
    }
   ],
   "source": [
    "#TF-IDF Representation\n",
    "tfidf_dataframe = pd.DataFrame(X_train_tfidf_arr, columns=tfidf_vect.get_feature_names())\n",
    "print(tfidf_dataframe)"
   ]
  },
  {
   "cell_type": "markdown",
   "metadata": {},
   "source": [
    "## Classification"
   ]
  },
  {
   "cell_type": "code",
   "execution_count": 28,
   "metadata": {},
   "outputs": [],
   "source": [
    "# Naive Bayes\n",
    "clf = MultinomialNB()"
   ]
  },
  {
   "cell_type": "code",
   "execution_count": 29,
   "metadata": {},
   "outputs": [],
   "source": [
    "# Random Forest\n",
    "rfc = RandomForestClassifier()"
   ]
  },
  {
   "cell_type": "code",
   "execution_count": 51,
   "metadata": {},
   "outputs": [],
   "source": [
    "# Sypport Vector Classifier\n",
    "svm = SVC(kernel='linear')"
   ]
  },
  {
   "cell_type": "markdown",
   "metadata": {},
   "source": [
    "#### Classification using Bag of Words"
   ]
  },
  {
   "cell_type": "code",
   "execution_count": 31,
   "metadata": {},
   "outputs": [],
   "source": [
    "X_test_bow = bow_vect.transform(X_test)\n",
    "X_test_bow_arr = X_test_bow.toarray()"
   ]
  },
  {
   "cell_type": "code",
   "execution_count": 32,
   "metadata": {},
   "outputs": [
    {
     "data": {
      "text/plain": [
       "MultinomialNB()"
      ]
     },
     "execution_count": 32,
     "metadata": {},
     "output_type": "execute_result"
    }
   ],
   "source": [
    "clf.fit(X_train_bow_arr, y_train)"
   ]
  },
  {
   "cell_type": "code",
   "execution_count": 33,
   "metadata": {},
   "outputs": [
    {
     "data": {
      "text/plain": [
       "RandomForestClassifier()"
      ]
     },
     "execution_count": 33,
     "metadata": {},
     "output_type": "execute_result"
    }
   ],
   "source": [
    "rfc.fit(X_train_bow_arr, y_train)"
   ]
  },
  {
   "cell_type": "code",
   "execution_count": 34,
   "metadata": {
    "scrolled": true
   },
   "outputs": [
    {
     "data": {
      "text/plain": [
       "SVC(kernel='linear')"
      ]
     },
     "execution_count": 34,
     "metadata": {},
     "output_type": "execute_result"
    }
   ],
   "source": [
    "svm.fit(X_train_bow_arr, y_train)"
   ]
  },
  {
   "cell_type": "markdown",
   "metadata": {},
   "source": [
    "#### Classification Report and Confusion Matrix for different models w.r.t Bag-of-Words"
   ]
  },
  {
   "cell_type": "markdown",
   "metadata": {},
   "source": [
    "##### For Naive Bayes"
   ]
  },
  {
   "cell_type": "code",
   "execution_count": 35,
   "metadata": {},
   "outputs": [
    {
     "name": "stdout",
     "output_type": "stream",
     "text": [
      "              precision    recall  f1-score   support\n",
      "\n",
      "           0     0.6829    1.0000    0.8116        28\n",
      "           1     1.0000    0.8108    0.8955        37\n",
      "           2     0.9655    0.8000    0.8750        35\n",
      "\n",
      "    accuracy                         0.8600       100\n",
      "   macro avg     0.8828    0.8703    0.8607       100\n",
      "weighted avg     0.8992    0.8600    0.8648       100\n",
      "\n"
     ]
    }
   ],
   "source": [
    "print(classification_report(y_test, clf.predict(X_test_bow_arr), digits=4))"
   ]
  },
  {
   "cell_type": "code",
   "execution_count": 36,
   "metadata": {},
   "outputs": [
    {
     "data": {
      "text/plain": [
       "array([[28,  0,  0],\n",
       "       [ 6, 30,  1],\n",
       "       [ 7,  0, 28]], dtype=int64)"
      ]
     },
     "execution_count": 36,
     "metadata": {},
     "output_type": "execute_result"
    }
   ],
   "source": [
    "confusion_matrix(y_test, clf.predict(X_test_bow_arr))"
   ]
  },
  {
   "cell_type": "markdown",
   "metadata": {},
   "source": [
    "##### For Random Forest Classifier"
   ]
  },
  {
   "cell_type": "code",
   "execution_count": 37,
   "metadata": {},
   "outputs": [
    {
     "name": "stdout",
     "output_type": "stream",
     "text": [
      "              precision    recall  f1-score   support\n",
      "\n",
      "           0     0.7000    1.0000    0.8235        28\n",
      "           1     1.0000    0.8378    0.9118        37\n",
      "           2     0.9655    0.8000    0.8750        35\n",
      "\n",
      "    accuracy                         0.8700       100\n",
      "   macro avg     0.8885    0.8793    0.8701       100\n",
      "weighted avg     0.9039    0.8700    0.8742       100\n",
      "\n"
     ]
    }
   ],
   "source": [
    "print(classification_report(y_test, rfc.predict(X_test_bow_arr), digits=4))"
   ]
  },
  {
   "cell_type": "code",
   "execution_count": 38,
   "metadata": {},
   "outputs": [
    {
     "data": {
      "text/plain": [
       "array([[28,  0,  0],\n",
       "       [ 5, 31,  1],\n",
       "       [ 7,  0, 28]], dtype=int64)"
      ]
     },
     "execution_count": 38,
     "metadata": {},
     "output_type": "execute_result"
    }
   ],
   "source": [
    "confusion_matrix(y_test, rfc.predict(X_test_bow_arr))"
   ]
  },
  {
   "cell_type": "markdown",
   "metadata": {},
   "source": [
    "##### For Support Vector Classifier"
   ]
  },
  {
   "cell_type": "code",
   "execution_count": 39,
   "metadata": {},
   "outputs": [
    {
     "name": "stdout",
     "output_type": "stream",
     "text": [
      "              precision    recall  f1-score   support\n",
      "\n",
      "           0     0.7000    1.0000    0.8235        28\n",
      "           1     1.0000    0.8378    0.9118        37\n",
      "           2     0.9655    0.8000    0.8750        35\n",
      "\n",
      "    accuracy                         0.8700       100\n",
      "   macro avg     0.8885    0.8793    0.8701       100\n",
      "weighted avg     0.9039    0.8700    0.8742       100\n",
      "\n"
     ]
    }
   ],
   "source": [
    "print(classification_report(y_test, svm.predict(X_test_bow_arr), digits=4))"
   ]
  },
  {
   "cell_type": "code",
   "execution_count": 40,
   "metadata": {},
   "outputs": [
    {
     "data": {
      "text/plain": [
       "array([[28,  0,  0],\n",
       "       [ 5, 31,  1],\n",
       "       [ 7,  0, 28]], dtype=int64)"
      ]
     },
     "execution_count": 40,
     "metadata": {},
     "output_type": "execute_result"
    }
   ],
   "source": [
    "confusion_matrix(y_test, svm.predict(X_test_bow_arr))"
   ]
  },
  {
   "cell_type": "markdown",
   "metadata": {},
   "source": [
    "#### Classification using TF-IDF"
   ]
  },
  {
   "cell_type": "code",
   "execution_count": 41,
   "metadata": {},
   "outputs": [],
   "source": [
    "X_test_tfidf = tfidf_vect.transform(X_test)\n",
    "X_test_tfidf_arr = X_test_tfidf.toarray()"
   ]
  },
  {
   "cell_type": "code",
   "execution_count": 42,
   "metadata": {},
   "outputs": [
    {
     "data": {
      "text/plain": [
       "MultinomialNB()"
      ]
     },
     "execution_count": 42,
     "metadata": {},
     "output_type": "execute_result"
    }
   ],
   "source": [
    "clf.fit(X_train_tfidf_arr, y_train)"
   ]
  },
  {
   "cell_type": "code",
   "execution_count": 43,
   "metadata": {},
   "outputs": [
    {
     "data": {
      "text/plain": [
       "RandomForestClassifier()"
      ]
     },
     "execution_count": 43,
     "metadata": {},
     "output_type": "execute_result"
    }
   ],
   "source": [
    "rfc.fit(X_train_tfidf_arr, y_train)"
   ]
  },
  {
   "cell_type": "code",
   "execution_count": 44,
   "metadata": {},
   "outputs": [
    {
     "data": {
      "text/plain": [
       "SVC(kernel='linear')"
      ]
     },
     "execution_count": 44,
     "metadata": {},
     "output_type": "execute_result"
    }
   ],
   "source": [
    "svm.fit(X_train_tfidf_arr, y_train)"
   ]
  },
  {
   "cell_type": "markdown",
   "metadata": {},
   "source": [
    "#### Classification Report and Confusion Matrix for different models w.r.t TF-IDF"
   ]
  },
  {
   "cell_type": "markdown",
   "metadata": {},
   "source": [
    "##### For Naive Bayes"
   ]
  },
  {
   "cell_type": "code",
   "execution_count": 45,
   "metadata": {},
   "outputs": [
    {
     "name": "stdout",
     "output_type": "stream",
     "text": [
      "              precision    recall  f1-score   support\n",
      "\n",
      "           0     0.7000    1.0000    0.8235        28\n",
      "           1     1.0000    0.8378    0.9118        37\n",
      "           2     0.9655    0.8000    0.8750        35\n",
      "\n",
      "    accuracy                         0.8700       100\n",
      "   macro avg     0.8885    0.8793    0.8701       100\n",
      "weighted avg     0.9039    0.8700    0.8742       100\n",
      "\n"
     ]
    }
   ],
   "source": [
    "print(classification_report(y_test, clf.predict(X_test_tfidf_arr), digits=4))"
   ]
  },
  {
   "cell_type": "code",
   "execution_count": 46,
   "metadata": {},
   "outputs": [
    {
     "data": {
      "text/plain": [
       "array([[28,  0,  0],\n",
       "       [ 5, 31,  1],\n",
       "       [ 7,  0, 28]], dtype=int64)"
      ]
     },
     "execution_count": 46,
     "metadata": {},
     "output_type": "execute_result"
    }
   ],
   "source": [
    "confusion_matrix(y_test, clf.predict(X_test_tfidf_arr))"
   ]
  },
  {
   "cell_type": "markdown",
   "metadata": {},
   "source": [
    "##### For Random Forest Classifier"
   ]
  },
  {
   "cell_type": "code",
   "execution_count": 47,
   "metadata": {},
   "outputs": [
    {
     "name": "stdout",
     "output_type": "stream",
     "text": [
      "              precision    recall  f1-score   support\n",
      "\n",
      "           0     0.7000    1.0000    0.8235        28\n",
      "           1     1.0000    0.8378    0.9118        37\n",
      "           2     0.9655    0.8000    0.8750        35\n",
      "\n",
      "    accuracy                         0.8700       100\n",
      "   macro avg     0.8885    0.8793    0.8701       100\n",
      "weighted avg     0.9039    0.8700    0.8742       100\n",
      "\n"
     ]
    }
   ],
   "source": [
    "print(classification_report(y_test, rfc.predict(X_test_tfidf_arr), digits=4))"
   ]
  },
  {
   "cell_type": "code",
   "execution_count": 48,
   "metadata": {},
   "outputs": [
    {
     "data": {
      "text/plain": [
       "array([[28,  0,  0],\n",
       "       [ 5, 31,  1],\n",
       "       [ 7,  0, 28]], dtype=int64)"
      ]
     },
     "execution_count": 48,
     "metadata": {},
     "output_type": "execute_result"
    }
   ],
   "source": [
    "confusion_matrix(y_test, rfc.predict(X_test_tfidf_arr))"
   ]
  },
  {
   "cell_type": "markdown",
   "metadata": {},
   "source": [
    "##### For Support Vector Classifier"
   ]
  },
  {
   "cell_type": "code",
   "execution_count": 49,
   "metadata": {},
   "outputs": [
    {
     "name": "stdout",
     "output_type": "stream",
     "text": [
      "              precision    recall  f1-score   support\n",
      "\n",
      "           0     0.7000    1.0000    0.8235        28\n",
      "           1     1.0000    0.8378    0.9118        37\n",
      "           2     0.9655    0.8000    0.8750        35\n",
      "\n",
      "    accuracy                         0.8700       100\n",
      "   macro avg     0.8885    0.8793    0.8701       100\n",
      "weighted avg     0.9039    0.8700    0.8742       100\n",
      "\n"
     ]
    }
   ],
   "source": [
    "print(classification_report(y_test, svm.predict(X_test_tfidf_arr), digits=4))"
   ]
  },
  {
   "cell_type": "code",
   "execution_count": 50,
   "metadata": {},
   "outputs": [
    {
     "data": {
      "text/plain": [
       "array([[28,  0,  0],\n",
       "       [ 5, 31,  1],\n",
       "       [ 7,  0, 28]], dtype=int64)"
      ]
     },
     "execution_count": 50,
     "metadata": {},
     "output_type": "execute_result"
    }
   ],
   "source": [
    "confusion_matrix(y_test, svm.predict(X_test_tfidf_arr))"
   ]
  },
  {
   "cell_type": "markdown",
   "metadata": {},
   "source": [
    "## Observation"
   ]
  },
  {
   "cell_type": "markdown",
   "metadata": {},
   "source": [
    "### The Classification Results for all the models are almost same. The reason for this might be smaller dataset which we got from Apriori Output. So, here we cannot make a judgement regarding which NLP Algorithm or which classification model worked best. So we can use any combination of NLP and classification models. If there had been a huge dataset from Apriori then models might have performed differently."
   ]
  }
 ],
 "metadata": {
  "kernelspec": {
   "display_name": "Python 3",
   "language": "python",
   "name": "python3"
  },
  "language_info": {
   "codemirror_mode": {
    "name": "ipython",
    "version": 3
   },
   "file_extension": ".py",
   "mimetype": "text/x-python",
   "name": "python",
   "nbconvert_exporter": "python",
   "pygments_lexer": "ipython3",
   "version": "3.8.5"
  }
 },
 "nbformat": 4,
 "nbformat_minor": 4
}
